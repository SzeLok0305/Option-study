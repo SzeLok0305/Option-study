{
 "cells": [
  {
   "cell_type": "code",
   "execution_count": 2,
   "id": "fa0cc80b-6108-4ee5-a0ac-df66cac88aeb",
   "metadata": {},
   "outputs": [],
   "source": [
    "import yfinance as yf\n",
    "import numpy as np\n",
    "import pandas as pd\n",
    "import matplotlib.pyplot as plt\n",
    "from scipy.stats import norm\n",
    "import pandas_datareader as pdr\n",
    "import datetime\n",
    "today = datetime.date.today()\n",
    "from matplotlib.ticker import ScalarFormatter"
   ]
  },
  {
   "cell_type": "code",
   "execution_count": 3,
   "id": "154ac37c-d596-4548-b4af-8414e9389f30",
   "metadata": {},
   "outputs": [],
   "source": [
    "def Black_Scholes_price(S, K, T, r, q, sigma, option_type):\n",
    "    d1 = (np.log(S / K) + (r - q + 0.5 * sigma ** 2) * T) / (sigma * np.sqrt(T))\n",
    "    d2 = d1 - sigma * np.sqrt(T)\n",
    "    if option_type == 'call':\n",
    "        option_price = S * np.exp(-q * T) * norm.cdf(d1) - K * np.exp(-r * T) * norm.cdf(d2)\n",
    "        delta = norm.cdf(d1)\n",
    "    elif option_type == 'put':\n",
    "        option_price = K * np.exp(-r * T) * norm.cdf(-d2) - S * np.exp(-q * T) * norm.cdf(-d1)\n",
    "        delta = -norm.cdf(-d1)\n",
    "    else:\n",
    "        raise ValueError(\"Invalid option type. Use 'call' or 'put'.\")\n",
    "    gamma = np.exp(-q * T) * norm.pdf(d1) / (S * sigma * np.sqrt(T))\n",
    "    theta = -S * norm.pdf(d1) * sigma / (2 * np.sqrt(T)) - r * K * np.exp(-r * T) * q * np.exp(-q * T) * norm.cdf(d2) \n",
    "    vega = S * np.exp(-q * T) * norm.pdf(d1) * np.sqrt(T)\n",
    "    \n",
    "    return option_price, delta, gamma, theta, vega"
   ]
  },
  {
   "cell_type": "code",
   "execution_count": 4,
   "id": "ffff39f6-ab94-4e2d-b2fa-03b61d28dc9b",
   "metadata": {},
   "outputs": [],
   "source": [
    "def Get_rfr():\n",
    "    risk_free_rate = pd.DataFrame()\n",
    "    shifted_date = 0 # change this if you run this on a non-trading day, just in case\n",
    "    while risk_free_rate.empty:\n",
    "        risk_free_rate = pdr.DataReader('DGS3MO', 'fred', today - datetime.timedelta(days=shifted_date)).dropna()\n",
    "        shifted_date += 1\n",
    "    return risk_free_rate.values[0][0]/100"
   ]
  },
  {
   "cell_type": "code",
   "execution_count": 5,
   "id": "1daf4f2f-b4ca-417a-8315-2956c0f82ffb",
   "metadata": {},
   "outputs": [],
   "source": [
    "ticker = yf.Ticker('DJT')\n",
    "expiration = ticker.options[0]\n",
    "Maturity = float( (datetime.datetime.strptime(expiration, '%Y-%m-%d').date() - today).days)\n",
    "dividend_yield = ticker.info.get('dividendYield', 0) \n",
    "\n",
    "option_chain = ticker.option_chain(expiration)\n",
    "calls = option_chain.calls\n",
    "puts = option_chain.puts\n",
    "\n",
    "current_price = ticker.info['currentPrice']\n",
    "price_error = 1/100 #2%\n",
    "\n",
    "risk_free_rate = Get_rfr()"
   ]
  },
  {
   "cell_type": "code",
   "execution_count": 6,
   "id": "b5015394-976c-4145-a026-f54e23261e68",
   "metadata": {},
   "outputs": [
    {
     "name": "stderr",
     "output_type": "stream",
     "text": [
      "/var/folders/8d/cgrbd3xs3m97xzpgj1zs6j1m0000gn/T/ipykernel_86313/2674253807.py:4: SettingWithCopyWarning: \n",
      "A value is trying to be set on a copy of a slice from a DataFrame.\n",
      "Try using .loc[row_indexer,col_indexer] = value instead\n",
      "\n",
      "See the caveats in the documentation: https://pandas.pydata.org/pandas-docs/stable/user_guide/indexing.html#returning-a-view-versus-a-copy\n",
      "  filtered_calls['Mid_price'] = (filtered_calls['bid'] + filtered_calls['ask'])/2\n",
      "/var/folders/8d/cgrbd3xs3m97xzpgj1zs6j1m0000gn/T/ipykernel_86313/2674253807.py:5: SettingWithCopyWarning: \n",
      "A value is trying to be set on a copy of a slice from a DataFrame.\n",
      "Try using .loc[row_indexer,col_indexer] = value instead\n",
      "\n",
      "See the caveats in the documentation: https://pandas.pydata.org/pandas-docs/stable/user_guide/indexing.html#returning-a-view-versus-a-copy\n",
      "  filtered_puts['Mid_price'] = (filtered_puts['bid'] + filtered_puts['ask'])/2\n"
     ]
    }
   ],
   "source": [
    "filtered_calls = calls[ (calls['strike'] >= current_price * (1-price_error)) & (calls['strike'] <= current_price * (1+price_error))]\n",
    "filtered_puts = puts[ (puts['strike'] >= current_price * (1-price_error)) & (puts['strike'] <= current_price * (1+price_error))]\n",
    "\n",
    "filtered_calls['Mid_price'] = (filtered_calls['bid'] + filtered_calls['ask'])/2\n",
    "filtered_puts['Mid_price'] = (filtered_puts['bid'] + filtered_puts['ask'])/2"
   ]
  },
  {
   "cell_type": "code",
   "execution_count": 7,
   "id": "cc4c91f0-07b5-4a43-9f79-3353464520a3",
   "metadata": {},
   "outputs": [
    {
     "data": {
      "text/html": [
       "<div>\n",
       "<style scoped>\n",
       "    .dataframe tbody tr th:only-of-type {\n",
       "        vertical-align: middle;\n",
       "    }\n",
       "\n",
       "    .dataframe tbody tr th {\n",
       "        vertical-align: top;\n",
       "    }\n",
       "\n",
       "    .dataframe thead th {\n",
       "        text-align: right;\n",
       "    }\n",
       "</style>\n",
       "<table border=\"1\" class=\"dataframe\">\n",
       "  <thead>\n",
       "    <tr style=\"text-align: right;\">\n",
       "      <th></th>\n",
       "      <th>contractSymbol</th>\n",
       "      <th>lastTradeDate</th>\n",
       "      <th>strike</th>\n",
       "      <th>lastPrice</th>\n",
       "      <th>bid</th>\n",
       "      <th>ask</th>\n",
       "      <th>change</th>\n",
       "      <th>percentChange</th>\n",
       "      <th>volume</th>\n",
       "      <th>openInterest</th>\n",
       "      <th>impliedVolatility</th>\n",
       "      <th>inTheMoney</th>\n",
       "      <th>contractSize</th>\n",
       "      <th>currency</th>\n",
       "      <th>Mid_price</th>\n",
       "    </tr>\n",
       "  </thead>\n",
       "  <tbody>\n",
       "    <tr>\n",
       "      <th>34</th>\n",
       "      <td>DJT241129C00030500</td>\n",
       "      <td>2024-11-27 20:59:56+00:00</td>\n",
       "      <td>30.5</td>\n",
       "      <td>0.4</td>\n",
       "      <td>0.38</td>\n",
       "      <td>0.41</td>\n",
       "      <td>-0.31</td>\n",
       "      <td>-43.661972</td>\n",
       "      <td>1551.0</td>\n",
       "      <td>1431</td>\n",
       "      <td>0.488286</td>\n",
       "      <td>False</td>\n",
       "      <td>REGULAR</td>\n",
       "      <td>USD</td>\n",
       "      <td>0.395</td>\n",
       "    </tr>\n",
       "  </tbody>\n",
       "</table>\n",
       "</div>"
      ],
      "text/plain": [
       "        contractSymbol             lastTradeDate  strike  lastPrice   bid  \\\n",
       "34  DJT241129C00030500 2024-11-27 20:59:56+00:00    30.5        0.4  0.38   \n",
       "\n",
       "     ask  change  percentChange  volume  openInterest  impliedVolatility  \\\n",
       "34  0.41   -0.31     -43.661972  1551.0          1431           0.488286   \n",
       "\n",
       "    inTheMoney contractSize currency  Mid_price  \n",
       "34       False      REGULAR      USD      0.395  "
      ]
     },
     "execution_count": 7,
     "metadata": {},
     "output_type": "execute_result"
    }
   ],
   "source": [
    "filtered_calls"
   ]
  },
  {
   "cell_type": "code",
   "execution_count": 8,
   "id": "3a2cdc1c-02b4-4d14-9bd2-cd971b53bbab",
   "metadata": {},
   "outputs": [
    {
     "data": {
      "text/html": [
       "<div>\n",
       "<style scoped>\n",
       "    .dataframe tbody tr th:only-of-type {\n",
       "        vertical-align: middle;\n",
       "    }\n",
       "\n",
       "    .dataframe tbody tr th {\n",
       "        vertical-align: top;\n",
       "    }\n",
       "\n",
       "    .dataframe thead th {\n",
       "        text-align: right;\n",
       "    }\n",
       "</style>\n",
       "<table border=\"1\" class=\"dataframe\">\n",
       "  <thead>\n",
       "    <tr style=\"text-align: right;\">\n",
       "      <th></th>\n",
       "      <th>contractSymbol</th>\n",
       "      <th>lastTradeDate</th>\n",
       "      <th>strike</th>\n",
       "      <th>lastPrice</th>\n",
       "      <th>bid</th>\n",
       "      <th>ask</th>\n",
       "      <th>change</th>\n",
       "      <th>percentChange</th>\n",
       "      <th>volume</th>\n",
       "      <th>openInterest</th>\n",
       "      <th>impliedVolatility</th>\n",
       "      <th>inTheMoney</th>\n",
       "      <th>contractSize</th>\n",
       "      <th>currency</th>\n",
       "      <th>Mid_price</th>\n",
       "    </tr>\n",
       "  </thead>\n",
       "  <tbody>\n",
       "    <tr>\n",
       "      <th>35</th>\n",
       "      <td>DJT241129P00030500</td>\n",
       "      <td>2024-11-27 20:52:24+00:00</td>\n",
       "      <td>30.5</td>\n",
       "      <td>0.5</td>\n",
       "      <td>0.42</td>\n",
       "      <td>0.5</td>\n",
       "      <td>-0.23</td>\n",
       "      <td>-31.506851</td>\n",
       "      <td>1029.0</td>\n",
       "      <td>705</td>\n",
       "      <td>0.521489</td>\n",
       "      <td>True</td>\n",
       "      <td>REGULAR</td>\n",
       "      <td>USD</td>\n",
       "      <td>0.46</td>\n",
       "    </tr>\n",
       "  </tbody>\n",
       "</table>\n",
       "</div>"
      ],
      "text/plain": [
       "        contractSymbol             lastTradeDate  strike  lastPrice   bid  \\\n",
       "35  DJT241129P00030500 2024-11-27 20:52:24+00:00    30.5        0.5  0.42   \n",
       "\n",
       "    ask  change  percentChange  volume  openInterest  impliedVolatility  \\\n",
       "35  0.5   -0.23     -31.506851  1029.0           705           0.521489   \n",
       "\n",
       "    inTheMoney contractSize currency  Mid_price  \n",
       "35        True      REGULAR      USD       0.46  "
      ]
     },
     "execution_count": 8,
     "metadata": {},
     "output_type": "execute_result"
    }
   ],
   "source": [
    "filtered_puts"
   ]
  },
  {
   "cell_type": "code",
   "execution_count": 9,
   "id": "87bf456c-97cd-4a7b-93ca-76e74740d7a6",
   "metadata": {},
   "outputs": [
    {
     "name": "stderr",
     "output_type": "stream",
     "text": [
      "/var/folders/8d/cgrbd3xs3m97xzpgj1zs6j1m0000gn/T/ipykernel_86313/779545833.py:1: SettingWithCopyWarning: \n",
      "A value is trying to be set on a copy of a slice from a DataFrame.\n",
      "Try using .loc[row_indexer,col_indexer] = value instead\n",
      "\n",
      "See the caveats in the documentation: https://pandas.pydata.org/pandas-docs/stable/user_guide/indexing.html#returning-a-view-versus-a-copy\n",
      "  filtered_calls['TheoreticalPrice'],filtered_calls['delta'],filtered_calls['gamma'],filtered_calls['theta'],filtered_calls['vega'] = Black_Scholes_price(current_price, filtered_calls['strike'], Maturity/360, risk_free_rate, 0, filtered_calls['impliedVolatility'], 'call')\n",
      "/var/folders/8d/cgrbd3xs3m97xzpgj1zs6j1m0000gn/T/ipykernel_86313/779545833.py:1: SettingWithCopyWarning: \n",
      "A value is trying to be set on a copy of a slice from a DataFrame.\n",
      "Try using .loc[row_indexer,col_indexer] = value instead\n",
      "\n",
      "See the caveats in the documentation: https://pandas.pydata.org/pandas-docs/stable/user_guide/indexing.html#returning-a-view-versus-a-copy\n",
      "  filtered_calls['TheoreticalPrice'],filtered_calls['delta'],filtered_calls['gamma'],filtered_calls['theta'],filtered_calls['vega'] = Black_Scholes_price(current_price, filtered_calls['strike'], Maturity/360, risk_free_rate, 0, filtered_calls['impliedVolatility'], 'call')\n",
      "/var/folders/8d/cgrbd3xs3m97xzpgj1zs6j1m0000gn/T/ipykernel_86313/779545833.py:1: SettingWithCopyWarning: \n",
      "A value is trying to be set on a copy of a slice from a DataFrame.\n",
      "Try using .loc[row_indexer,col_indexer] = value instead\n",
      "\n",
      "See the caveats in the documentation: https://pandas.pydata.org/pandas-docs/stable/user_guide/indexing.html#returning-a-view-versus-a-copy\n",
      "  filtered_calls['TheoreticalPrice'],filtered_calls['delta'],filtered_calls['gamma'],filtered_calls['theta'],filtered_calls['vega'] = Black_Scholes_price(current_price, filtered_calls['strike'], Maturity/360, risk_free_rate, 0, filtered_calls['impliedVolatility'], 'call')\n",
      "/var/folders/8d/cgrbd3xs3m97xzpgj1zs6j1m0000gn/T/ipykernel_86313/779545833.py:1: SettingWithCopyWarning: \n",
      "A value is trying to be set on a copy of a slice from a DataFrame.\n",
      "Try using .loc[row_indexer,col_indexer] = value instead\n",
      "\n",
      "See the caveats in the documentation: https://pandas.pydata.org/pandas-docs/stable/user_guide/indexing.html#returning-a-view-versus-a-copy\n",
      "  filtered_calls['TheoreticalPrice'],filtered_calls['delta'],filtered_calls['gamma'],filtered_calls['theta'],filtered_calls['vega'] = Black_Scholes_price(current_price, filtered_calls['strike'], Maturity/360, risk_free_rate, 0, filtered_calls['impliedVolatility'], 'call')\n",
      "/var/folders/8d/cgrbd3xs3m97xzpgj1zs6j1m0000gn/T/ipykernel_86313/779545833.py:1: SettingWithCopyWarning: \n",
      "A value is trying to be set on a copy of a slice from a DataFrame.\n",
      "Try using .loc[row_indexer,col_indexer] = value instead\n",
      "\n",
      "See the caveats in the documentation: https://pandas.pydata.org/pandas-docs/stable/user_guide/indexing.html#returning-a-view-versus-a-copy\n",
      "  filtered_calls['TheoreticalPrice'],filtered_calls['delta'],filtered_calls['gamma'],filtered_calls['theta'],filtered_calls['vega'] = Black_Scholes_price(current_price, filtered_calls['strike'], Maturity/360, risk_free_rate, 0, filtered_calls['impliedVolatility'], 'call')\n",
      "/var/folders/8d/cgrbd3xs3m97xzpgj1zs6j1m0000gn/T/ipykernel_86313/779545833.py:2: SettingWithCopyWarning: \n",
      "A value is trying to be set on a copy of a slice from a DataFrame.\n",
      "Try using .loc[row_indexer,col_indexer] = value instead\n",
      "\n",
      "See the caveats in the documentation: https://pandas.pydata.org/pandas-docs/stable/user_guide/indexing.html#returning-a-view-versus-a-copy\n",
      "  filtered_puts['TheoreticalPrice'],filtered_puts['delta'],filtered_puts['gamma'],filtered_puts['theta'],filtered_puts['vega'] = Black_Scholes_price(current_price, filtered_puts['strike'], Maturity/360, risk_free_rate, 0, filtered_puts['impliedVolatility'], 'put')\n",
      "/var/folders/8d/cgrbd3xs3m97xzpgj1zs6j1m0000gn/T/ipykernel_86313/779545833.py:2: SettingWithCopyWarning: \n",
      "A value is trying to be set on a copy of a slice from a DataFrame.\n",
      "Try using .loc[row_indexer,col_indexer] = value instead\n",
      "\n",
      "See the caveats in the documentation: https://pandas.pydata.org/pandas-docs/stable/user_guide/indexing.html#returning-a-view-versus-a-copy\n",
      "  filtered_puts['TheoreticalPrice'],filtered_puts['delta'],filtered_puts['gamma'],filtered_puts['theta'],filtered_puts['vega'] = Black_Scholes_price(current_price, filtered_puts['strike'], Maturity/360, risk_free_rate, 0, filtered_puts['impliedVolatility'], 'put')\n",
      "/var/folders/8d/cgrbd3xs3m97xzpgj1zs6j1m0000gn/T/ipykernel_86313/779545833.py:2: SettingWithCopyWarning: \n",
      "A value is trying to be set on a copy of a slice from a DataFrame.\n",
      "Try using .loc[row_indexer,col_indexer] = value instead\n",
      "\n",
      "See the caveats in the documentation: https://pandas.pydata.org/pandas-docs/stable/user_guide/indexing.html#returning-a-view-versus-a-copy\n",
      "  filtered_puts['TheoreticalPrice'],filtered_puts['delta'],filtered_puts['gamma'],filtered_puts['theta'],filtered_puts['vega'] = Black_Scholes_price(current_price, filtered_puts['strike'], Maturity/360, risk_free_rate, 0, filtered_puts['impliedVolatility'], 'put')\n",
      "/var/folders/8d/cgrbd3xs3m97xzpgj1zs6j1m0000gn/T/ipykernel_86313/779545833.py:2: SettingWithCopyWarning: \n",
      "A value is trying to be set on a copy of a slice from a DataFrame.\n",
      "Try using .loc[row_indexer,col_indexer] = value instead\n",
      "\n",
      "See the caveats in the documentation: https://pandas.pydata.org/pandas-docs/stable/user_guide/indexing.html#returning-a-view-versus-a-copy\n",
      "  filtered_puts['TheoreticalPrice'],filtered_puts['delta'],filtered_puts['gamma'],filtered_puts['theta'],filtered_puts['vega'] = Black_Scholes_price(current_price, filtered_puts['strike'], Maturity/360, risk_free_rate, 0, filtered_puts['impliedVolatility'], 'put')\n",
      "/var/folders/8d/cgrbd3xs3m97xzpgj1zs6j1m0000gn/T/ipykernel_86313/779545833.py:2: SettingWithCopyWarning: \n",
      "A value is trying to be set on a copy of a slice from a DataFrame.\n",
      "Try using .loc[row_indexer,col_indexer] = value instead\n",
      "\n",
      "See the caveats in the documentation: https://pandas.pydata.org/pandas-docs/stable/user_guide/indexing.html#returning-a-view-versus-a-copy\n",
      "  filtered_puts['TheoreticalPrice'],filtered_puts['delta'],filtered_puts['gamma'],filtered_puts['theta'],filtered_puts['vega'] = Black_Scholes_price(current_price, filtered_puts['strike'], Maturity/360, risk_free_rate, 0, filtered_puts['impliedVolatility'], 'put')\n"
     ]
    }
   ],
   "source": [
    "filtered_calls['TheoreticalPrice'],filtered_calls['delta'],filtered_calls['gamma'],filtered_calls['theta'],filtered_calls['vega'] = Black_Scholes_price(current_price, filtered_calls['strike'], Maturity/360, risk_free_rate, dividend_yield, filtered_calls['impliedVolatility'], 'call')\n",
    "filtered_puts['TheoreticalPrice'],filtered_puts['delta'],filtered_puts['gamma'],filtered_puts['theta'],filtered_puts['vega'] = Black_Scholes_price(current_price, filtered_puts['strike'], Maturity/360, risk_free_rate, dividend_yield, filtered_puts['impliedVolatility'], 'put')\n"
   ]
  },
  {
   "cell_type": "code",
   "execution_count": 10,
   "id": "8fb855f0-e7a7-4b85-8287-26db41d07154",
   "metadata": {},
   "outputs": [],
   "source": [
    "def Payoff(calls,puts):\n",
    "    Delta = sum(calls['delta'].values + puts['delta'].values)\n",
    "    Portfolio_0 = calls['Mid_price'].sum() + puts['Mid_price'].sum()  - Delta*current_price\n",
    "\n",
    "    possible_prices = np.linspace(current_price*0.1,current_price*1.5,1000)\n",
    "    Profits = np.zeros(len(possible_prices))\n",
    "    for i, price in enumerate(possible_prices):\n",
    "        \n",
    "        call_profit = np.maximum(price - calls['strike'], 0)\n",
    "        \n",
    "        put_profit = np.maximum(puts['strike'] - price, 0)\n",
    "        \n",
    "        Profits[i] = (call_profit.sum() + put_profit.sum() - Delta*price)\n",
    "\n",
    "    # Calculate break-even points\n",
    "    break_even_indices = np.where(np.isclose(Profits, 0, atol=1e-2))[0]\n",
    "    break_even_prices = possible_prices[break_even_indices]\n",
    "\n",
    "    \n",
    "    plt.figure(figsize=(10, 6))\n",
    "    plt.plot(possible_prices, Profits)\n",
    "    plt.title('Portfolio Risk Profile')\n",
    "    plt.xlabel('Underlying Price')\n",
    "    plt.ylabel('Profit/Loss')\n",
    "    \n",
    "    plt.axhline(y=0, color='r', linestyle='--')\n",
    "    plt.axvline(x=current_price, color='g', linestyle='--', label='Current Price')\n",
    "    props = dict(boxstyle='round', facecolor='wheat', alpha=0.5)\n",
    "    plt.text(0.63, 0.7, f'Current Price: {current_price:.2f} USD', transform=plt.gca().transAxes, verticalalignment='top', horizontalalignment='center', bbox=props)\n",
    "    plt.legend()\n",
    "    plt.grid(True)\n",
    "\n",
    "    for k, price in enumerate(break_even_prices):\n",
    "        print(k)\n",
    "        plt.plot(price, 0, 'bo')  # blue circle marker\n",
    "        prop = dict(boxstyle='round', facecolor='wheat', alpha=0.5)\n",
    "        plt.text(0.45 + (k)/2.5, 0.2, f'Break even at: {price:.2f} USD', transform=plt.gca().transAxes, verticalalignment='top', horizontalalignment='center', bbox=props)\n",
    "\n",
    "    \n",
    "    ax = plt.gca()\n",
    "    ax.yaxis.set_major_formatter(ScalarFormatter(useMathText=True))\n",
    "    #ax.ticklabel_format(style='sci', axis='y', scilimits=(0,0))\n",
    "    plt.show()"
   ]
  },
  {
   "cell_type": "code",
   "execution_count": 11,
   "id": "2063be0d-00a9-4e8e-8380-1acba34d1bd6",
   "metadata": {},
   "outputs": [
    {
     "data": {
      "image/png": "[encoded data removed]",
      "text/plain": [
       "<Figure size 1000x600 with 1 Axes>"
      ]
     },
     "metadata": {},
     "output_type": "display_data"
    }
   ],
   "source": [
    "Payoff(filtered_calls,filtered_puts)"
   ]
  },
  {
   "cell_type": "code",
   "execution_count": null,
   "id": "0e095cfe-d546-4f86-8801-5d9907868f61",
   "metadata": {},
   "outputs": [],
   "source": []
  }
 ],
 "metadata": {
  "kernelspec": {
   "display_name": "Python 3 (ipykernel)",
   "language": "python",
   "name": "python3"
  },
  "language_info": {
   "codemirror_mode": {
    "name": "ipython",
    "version": 3
   },
   "file_extension": ".py",
   "mimetype": "text/x-python",
   "name": "python",
   "nbconvert_exporter": "python",
   "pygments_lexer": "ipython3",
   "version": "3.11.7"
  }
 },
 "nbformat": 4,
 "nbformat_minor": 5
}
