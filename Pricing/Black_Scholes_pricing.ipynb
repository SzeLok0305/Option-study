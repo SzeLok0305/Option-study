{
 "cells": [
  {
   "cell_type": "code",
   "execution_count": 201,
   "id": "5a61e776-a6f0-4fe1-bc5d-63a7266deeb0",
   "metadata": {},
   "outputs": [],
   "source": [
    "import numpy as np\n",
    "import pandas as pd\n",
    "import yfinance as yf\n",
    "import pandas_datareader as pdr\n",
    "import seaborn as sns\n",
    "from matplotlib import pyplot as plt\n",
    "from scipy.stats import norm\n",
    "import datetime"
   ]
  },
  {
   "cell_type": "code",
   "execution_count": 203,
   "id": "23320d41-c136-4f6a-ade4-ee6d4a41907e",
   "metadata": {},
   "outputs": [],
   "source": [
    "def black_scholes(S, K, T, r, sigma, option_type='call'):\n",
    "    d1 = (np.log(S / K) + (r + 0.5 * sigma ** 2) * T) / (sigma * np.sqrt(T))\n",
    "    d2 = d1 - sigma * np.sqrt(T)\n",
    "    \n",
    "    if option_type == 'call':\n",
    "        option_price = S * norm.cdf(d1) - K * np.exp(-r * T) * norm.cdf(d2)\n",
    "    elif option_type == 'put':\n",
    "        option_price = K * np.exp(-r * T) * norm.cdf(-d2) - S * norm.cdf(-d1)\n",
    "    else:\n",
    "        raise ValueError(\"Invalid option type. Use 'call' or 'put'.\")\n",
    "    \n",
    "    return option_price"
   ]
  },
  {
   "cell_type": "code",
   "execution_count": 215,
   "id": "4947c38d-b981-4f47-8493-4533c486ee99",
   "metadata": {},
   "outputs": [],
   "source": [
    "def Price_now(ticker,strike,option_type,maturity_period=0,look_back_period=30):\n",
    "    Start_date = datetime.date.today() - datetime.timedelta(days=2*look_back_period) # prepare enough data for rolling\n",
    "    df_Stock_price = yf.download(ticker,start = Start_date)\n",
    "    symbol = yf.Ticker(ticker)\n",
    "\n",
    "    for col in df_Stock_price.columns:\n",
    "        df_Stock_price[f\"lr {col}\"] = np.log(df_Stock_price[f'{col}'] / df_Stock_price[f'{col}'].shift(1))\n",
    "        df_Stock_price[f\"vol {col}\"] = df_Stock_price[f\"lr {col}\"].rolling(window=look_back_period).std()\n",
    "    \n",
    "    df_risk_free_rate = pdr.DataReader(\"DGS3MO\", 'fred', Start_date).dropna()\n",
    "    df_risk_free_rate[\"DGS3MO\"] = df_risk_free_rate[\"DGS3MO\"]/100\n",
    "    risk_free_rate = df_risk_free_rate[\"DGS3MO\"].iloc[-1]\n",
    "    \n",
    "    Current_price = symbol.info['currentPrice']\n",
    "    expiration = symbol.options[maturity_period]\n",
    "    option_chain = symbol.option_chain(expiration)\n",
    "    T_expiration = ((pd.Timestamp(expiration) - pd.Timestamp(datetime.date.today())).days)/360\n",
    "    sigma = np.sqrt(360)*np.sqrt((df_Stock_price[\"vol Open\"]**2 + df_Stock_price[\"vol Close\"]**2 + df_Stock_price[\"vol High\"]**2 + df_Stock_price[\"vol Low\"]**2)/4).iloc[-1]\n",
    "\n",
    "    Option_price = black_scholes(Current_price,strike,T_expiration,risk_free_rate,sigma,option_type)\n",
    "    print(f'Price for {ticker} {option_type} at {strike} is {Option_price:.2f} USD')\n",
    "    return Option_price"
   ]
  },
  {
   "cell_type": "code",
   "execution_count": 217,
   "id": "7aa42a38-d4c8-49be-9ff0-4cbc98043dc5",
   "metadata": {},
   "outputs": [
    {
     "name": "stderr",
     "output_type": "stream",
     "text": [
      "[*********************100%%**********************]  1 of 1 completed\n"
     ]
    },
    {
     "name": "stdout",
     "output_type": "stream",
     "text": [
      "Price for NVDA call at 136 is 0.91 USD\n"
     ]
    }
   ],
   "source": [
    "P=Price_now('NVDA',136,'call')"
   ]
  },
  {
   "cell_type": "code",
   "execution_count": null,
   "id": "b835cefd-39a1-4220-a011-4d82484d80a4",
   "metadata": {},
   "outputs": [],
   "source": []
  }
 ],
 "metadata": {
  "kernelspec": {
   "display_name": "Python 3 (ipykernel)",
   "language": "python",
   "name": "python3"
  },
  "language_info": {
   "codemirror_mode": {
    "name": "ipython",
    "version": 3
   },
   "file_extension": ".py",
   "mimetype": "text/x-python",
   "name": "python",
   "nbconvert_exporter": "python",
   "pygments_lexer": "ipython3",
   "version": "3.11.7"
  }
 },
 "nbformat": 4,
 "nbformat_minor": 5
}
